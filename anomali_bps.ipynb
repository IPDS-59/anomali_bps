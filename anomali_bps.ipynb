{
 "cells": [
  {
   "cell_type": "code",
   "execution_count": 56,
   "id": "257585a4-717a-417b-b132-733adf0e21bc",
   "metadata": {},
   "outputs": [],
   "source": [
    "import time\n",
    "import os\n",
    "import pandas as pd\n",
    "import datetime\n",
    "\n",
    "from selenium import webdriver\n",
    "from selenium.webdriver.common.by import By\n",
    "from selenium.webdriver.support.ui import WebDriverWait\n",
    "from selenium.webdriver.support import expected_conditions as EC\n",
    "from selenium.webdriver.chrome.service import Service\n",
    "from selenium.webdriver.chrome.options import Options"
   ]
  },
  {
   "cell_type": "code",
   "execution_count": null,
   "id": "b731f9a6-14fa-428d-b6a3-082011f1acb0",
   "metadata": {},
   "outputs": [],
   "source": [
    "LIST = 'daftar_anomali.xlsx'\n",
    "SPV = 'wilayah_tugas_sak_82024.xlsx'"
   ]
  },
  {
   "cell_type": "code",
   "execution_count": 19,
   "id": "46222658-e228-4697-a22e-1c07fd935246",
   "metadata": {},
   "outputs": [],
   "source": [
    "# Set download directory path\n",
    "download_dir = os.getcwd()+r'\\download'\n",
    "\n",
    "# Create Chrome options object\n",
    "chrome_options = Options()\n",
    "\n",
    "# Set download directory preference\n",
    "prefs = {'download.default_directory': download_dir}\n",
    "chrome_options.add_experimental_option('prefs', prefs)"
   ]
  },
  {
   "cell_type": "code",
   "execution_count": 3,
   "id": "47028c91-0f60-4ca3-ae29-4aaa05ab7962",
   "metadata": {},
   "outputs": [],
   "source": [
    "def check_button(xpath):\n",
    "    try:\n",
    "        button = WebDriverWait(driver, 10).until(\n",
    "            EC.presence_of_element_located((By.XPATH, xpath))\n",
    "        )\n",
    "        button.click()\n",
    "    except:\n",
    "        pass"
   ]
  },
  {
   "cell_type": "code",
   "execution_count": 20,
   "id": "c128e75d-6de3-4bcb-b1f5-3529dfdb5ab3",
   "metadata": {},
   "outputs": [],
   "source": [
    "driver = webdriver.Chrome(\n",
    "    service=Service('chromedriver-win64/chromedriver.exe'),\n",
    "    options=chrome_options\n",
    ")"
   ]
  },
  {
   "cell_type": "code",
   "execution_count": 10,
   "id": "058e4c84-dff5-4257-ab21-72510f1db9e3",
   "metadata": {},
   "outputs": [],
   "source": [
    "# PUSAT\n",
    "list_error = pd.read_excel(LIST)"
   ]
  },
  {
   "cell_type": "code",
   "execution_count": 21,
   "id": "6aa168c8-4c79-465b-8762-080405ea3b7e",
   "metadata": {},
   "outputs": [],
   "source": [
    "driver.get('https://fasih-dashboard.bps.go.id/superset/sqllab')"
   ]
  },
  {
   "cell_type": "markdown",
   "id": "09abbe54-1d23-4532-a65a-95161fd4eae6",
   "metadata": {},
   "source": [
    "# Manual Login"
   ]
  },
  {
   "cell_type": "code",
   "execution_count": 33,
   "id": "e7474937-9366-4503-b69e-c660770aff56",
   "metadata": {},
   "outputs": [],
   "source": [
    "for index, row in list_error.iterrows():\n",
    "    driver.get(row['link'])\n",
    "    time.sleep(1)\n",
    "\n",
    "    check_button('//*[@id=\"js-sql-toolbar\"]/div[1]/span[1]/span/button')\n",
    "    time.sleep(1)\n",
    "\n",
    "    while True:\n",
    "        try:\n",
    "            pending = driver.find_element(\n",
    "                By.XPATH,\n",
    "                ('/html/body/div[2]/div/div/div[2]/div/div/div/div[3]/div[3]'\n",
    "                 '/div/div[2]/div/div[1]/div/span')\n",
    "            ).text\n",
    "            time.sleep(1)\n",
    "\n",
    "            if pending != 'pending':\n",
    "                break\n",
    "\n",
    "        except:\n",
    "            break\n",
    "    time.sleep(1)\n",
    "\n",
    "    while True:\n",
    "        try:\n",
    "            wait = driver.find_element(\n",
    "                By.XPATH,\n",
    "                ('/html/body/div[2]/div/div/div[2]/div/div/div/div[3]/div[3]'\n",
    "                 '/div/div[2]/div/div[1]/div/div[3]/div/div/div[1]')\n",
    "            ).text\n",
    "            time.sleep(1)\n",
    "\n",
    "            if wait != 'Running statement 1 out of 1':\n",
    "                break\n",
    "\n",
    "        except:\n",
    "            break\n",
    "    time.sleep(3)\n",
    "\n",
    "    try:\n",
    "        test = driver.find_element(\n",
    "            By.XPATH,\n",
    "            ('/html/body/div[2]/div/div/div[2]/div/div[1]/div/div[3]/div[3]'\n",
    "             '/div/div[2]/div/div[1]/div/div[1]/div')\n",
    "        ).text\n",
    "\n",
    "        if test != 'The query returned no data':\n",
    "            check_button(\n",
    "                '/html/body/div[2]/div/div/div[2]/div/div[1]/div/div[3]'\n",
    "                '/div[3]/div/div[2]/div/div[1]/div/div[1]/div'\n",
    "            )\n",
    "            time.sleep(1)\n",
    "\n",
    "            filename = max([\n",
    "                download_dir + '\\\\' + f for f in os.listdir(\n",
    "                    download_dir\n",
    "            )], key=os.path.getctime)\n",
    "            df = pd.read_csv(filename, dtype='str')\n",
    "\n",
    "            df['kode'] = row['kode']\n",
    "            df['keterangan'] = row['keterangan']\n",
    "\n",
    "            df = df[['kode', 'keterangan']+list(df.columns[:-2])]\n",
    "            df.to_csv(filename, index=False)\n",
    "\n",
    "    except:\n",
    "        pass\n",
    "\n",
    "    check_button(\n",
    "        '//*[@id=\"a11y-query-editor-tabs\"]/div[1]/div[1]/div/div[1]'\n",
    "        '/button/span'\n",
    "    )\n",
    "    time.sleep(1)"
   ]
  },
  {
   "cell_type": "markdown",
   "id": "1ed2029c-1759-40d5-95f8-a5a2a378bd57",
   "metadata": {},
   "source": [
    "# Join with the person in charge"
   ]
  },
  {
   "cell_type": "code",
   "execution_count": 53,
   "id": "deb1abc5-d517-4bec-97f8-0abf2a254c2b",
   "metadata": {},
   "outputs": [],
   "source": [
    "df = pd.DataFrame()\n",
    "for file in os.listdir('download'):\n",
    "    temp = pd.read_csv(f'download/{file}', dtype='str')\n",
    "    temp['Variable'] = temp[temp.columns[15:-1]].apply(\n",
    "        lambda x: ', '.join(\n",
    "            f'{col}:{val}' for col, val in zip(x.index, x.values)\n",
    "        ), axis=1\n",
    "    )\n",
    "    temp = temp[[*temp.columns[:15], temp.columns[-1]]]\n",
    "\n",
    "    df = pd.concat([df, temp])\n",
    "\n",
    "df['idbs'] = (df['KODE_PROV'].astype(str) + df['KODE_KAB'] + df['KODE_KEC']\n",
    "              + df['KODE_DESA'] + df['BS'])"
   ]
  },
  {
   "cell_type": "code",
   "execution_count": 46,
   "id": "1f20d7d0-314d-4910-a094-e86398f1e855",
   "metadata": {},
   "outputs": [],
   "source": [
    "spv = pd.read_excel(SPV)\n",
    "spv['pml'] = spv['pml'].str.split(',').str[0]"
   ]
  },
  {
   "cell_type": "code",
   "execution_count": 54,
   "id": "6a572bec-f9e3-4a37-92b8-3a333e11c639",
   "metadata": {},
   "outputs": [],
   "source": [
    "final = pd.merge(df, spv)"
   ]
  },
  {
   "cell_type": "code",
   "execution_count": null,
   "id": "5cc1ba18-7013-406f-9d97-6e064c73e7d0",
   "metadata": {},
   "outputs": [],
   "source": [
    "if not os.path.exists('anomali_petugas/'):\n",
    "    os.makedirs('anomali_petugas/')"
   ]
  },
  {
   "cell_type": "code",
   "execution_count": 55,
   "id": "1344ae44-c466-4b26-81f1-93f689ddcad0",
   "metadata": {},
   "outputs": [],
   "source": [
    "for i in final['pml'].unique():\n",
    "    writer = pd.ExcelWriter(f'anomali_petugas/Anomali_{i}.xlsx')\n",
    "    final.loc[final['pml']==i].to_excel(\n",
    "        writer,\n",
    "        sheet_name='Sheet1',\n",
    "        index=False,\n",
    "        na_rep='NaN'\n",
    "    )\n",
    "\n",
    "    for column in df:\n",
    "        column_length = max(\n",
    "            df[column].astype(str).map(len).max(),\n",
    "            len(column)\n",
    "        )+5\n",
    "\n",
    "        col_idx = df.columns.get_loc(column)\n",
    "        writer.sheets['Sheet1'].set_column(col_idx, col_idx, column_length)\n",
    "\n",
    "    writer.close()"
   ]
  },
  {
   "cell_type": "code",
   "execution_count": 57,
   "id": "c87b309f-1ae1-4d78-aeb9-125d2a730904",
   "metadata": {},
   "outputs": [],
   "source": [
    "date = datetime.date.today().strftime(\"%Y-%m-%d\")\n",
    "final.to_excel(f'anomali_sak_{date}.xlsx', index=False)"
   ]
  },
  {
   "cell_type": "code",
   "execution_count": null,
   "id": "d72b3e93-edf8-458e-9a6c-cf4839660b83",
   "metadata": {},
   "outputs": [],
   "source": []
  }
 ],
 "metadata": {
  "kernelspec": {
   "display_name": "Python 3 (ipykernel)",
   "language": "python",
   "name": "python3"
  },
  "language_info": {
   "codemirror_mode": {
    "name": "ipython",
    "version": 3
   },
   "file_extension": ".py",
   "mimetype": "text/x-python",
   "name": "python",
   "nbconvert_exporter": "python",
   "pygments_lexer": "ipython3",
   "version": "3.12.4"
  }
 },
 "nbformat": 4,
 "nbformat_minor": 5
}
