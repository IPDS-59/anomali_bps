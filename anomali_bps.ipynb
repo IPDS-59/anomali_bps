{
 "cells": [
  {
   "cell_type": "code",
   "execution_count": 1,
   "id": "257585a4-717a-417b-b132-733adf0e21bc",
   "metadata": {},
   "outputs": [],
   "source": [
    "import time\n",
    "import os\n",
    "import pandas as pd\n",
    "import datetime\n",
    "import utilities\n",
    "\n",
    "from selenium import webdriver\n",
    "from selenium.webdriver.common.by import By\n",
    "from selenium.webdriver.chrome.service import Service\n",
    "from selenium.webdriver.chrome.options import Options"
   ]
  },
  {
   "cell_type": "code",
   "execution_count": 2,
   "id": "b731f9a6-14fa-428d-b6a3-082011f1acb0",
   "metadata": {},
   "outputs": [],
   "source": [
    "LIST = 'daftar_anomali.xlsx'\n",
    "SPV = 'wilayah_tugas_sak_82024.xlsx'"
   ]
  },
  {
   "cell_type": "code",
   "execution_count": 3,
   "id": "46222658-e228-4697-a22e-1c07fd935246",
   "metadata": {},
   "outputs": [],
   "source": [
    "download_dir = os.getcwd()+r'\\download'\n",
    "chrome_options = Options()\n",
    "\n",
    "prefs = {'download.default_directory': download_dir}\n",
    "chrome_options.add_experimental_option('prefs', prefs)"
   ]
  },
  {
   "cell_type": "code",
   "execution_count": 4,
   "id": "c128e75d-6de3-4bcb-b1f5-3529dfdb5ab3",
   "metadata": {},
   "outputs": [],
   "source": [
    "driver = webdriver.Chrome(\n",
    "    service=Service('chromedriver-win64/chromedriver.exe'),\n",
    "    options=chrome_options\n",
    ")"
   ]
  },
  {
   "cell_type": "code",
   "execution_count": 8,
   "id": "058e4c84-dff5-4257-ab21-72510f1db9e3",
   "metadata": {},
   "outputs": [],
   "source": [
    "list_error = utilities.read_file(LIST)\n",
    "list_error = list_error[list_error['link'].notna()]"
   ]
  },
  {
   "cell_type": "code",
   "execution_count": 10,
   "id": "6aa168c8-4c79-465b-8762-080405ea3b7e",
   "metadata": {},
   "outputs": [],
   "source": [
    "driver.get('https://fasih-dashboard.bps.go.id/superset/sqllab')"
   ]
  },
  {
   "cell_type": "markdown",
   "id": "09abbe54-1d23-4532-a65a-95161fd4eae6",
   "metadata": {},
   "source": [
    "# Manual Login"
   ]
  },
  {
   "cell_type": "code",
   "execution_count": 12,
   "id": "e7474937-9366-4503-b69e-c660770aff56",
   "metadata": {},
   "outputs": [],
   "source": [
    "anm = pd.DataFrame()\n",
    "for index, row in list_error.iterrows():\n",
    "    driver.get(row['link'])\n",
    "    time.sleep(1)\n",
    "\n",
    "    utilities.check_button(\n",
    "        driver,\n",
    "        '//*[@id=\"js-sql-toolbar\"]/div[1]/span[1]/span/button'\n",
    "    )\n",
    "    time.sleep(1)\n",
    "\n",
    "    while True:\n",
    "        try:\n",
    "            pending = driver.find_element(\n",
    "                By.XPATH,\n",
    "                ('/html/body/div[2]/div/div/div[2]/div/div/div/div[3]/div[3]'\n",
    "                 '/div/div[2]/div/div[1]/div/span')\n",
    "            ).text\n",
    "            time.sleep(1)\n",
    "\n",
    "            if pending != 'pending':\n",
    "                break\n",
    "\n",
    "        except:\n",
    "            break\n",
    "    time.sleep(1)\n",
    "\n",
    "    while True:\n",
    "        try:\n",
    "            wait = driver.find_element(\n",
    "                By.XPATH,\n",
    "                ('/html/body/div[2]/div/div/div[2]/div/div/div/div[3]/div[3]'\n",
    "                 '/div/div[2]/div/div[1]/div/div[3]/div/div/div[1]')\n",
    "            ).text\n",
    "            time.sleep(1)\n",
    "\n",
    "            if wait != 'Running statement 1 out of 1':\n",
    "                break\n",
    "\n",
    "        except:\n",
    "            break\n",
    "    time.sleep(3)\n",
    "\n",
    "    try:\n",
    "        test = driver.find_element(\n",
    "            By.XPATH,\n",
    "            ('/html/body/div[2]/div/div/div[2]/div/div[1]/div/div[3]/div[3]'\n",
    "             '/div/div[2]/div/div[1]/div/div[1]/div')\n",
    "        ).text\n",
    "\n",
    "        if test != 'The query returned no data':\n",
    "            utilities.check_button(\n",
    "                driver,\n",
    "                '/html/body/div[2]/div/div/div[2]/div/div[1]/div/div[3]'\n",
    "                '/div[3]/div/div[2]/div/div[1]/div/div[1]/div'\n",
    "            )\n",
    "            time.sleep(1)\n",
    "            anm = pd.concat([\n",
    "                anm,\n",
    "                pd.DataFrame([{\n",
    "                    'kode': row['kode'],\n",
    "                    'keterangan': row['keterangan']\n",
    "                }])\n",
    "            ])\n",
    "\n",
    "    except:\n",
    "        pass\n",
    "\n",
    "    utilities.check_button(\n",
    "        driver,\n",
    "        '//*[@id=\"a11y-query-editor-tabs\"]/div[1]/div[1]/div/div[1]'\n",
    "        '/button/span'\n",
    "    )\n",
    "    time.sleep(1)"
   ]
  },
  {
   "cell_type": "code",
   "execution_count": 13,
   "id": "a271f0d2-4366-4a9c-82ea-8606d59d0716",
   "metadata": {},
   "outputs": [],
   "source": [
    "file_df = pd.DataFrame({'download':os.listdir('download')})\n",
    "file_df['date'] = (\n",
    "    file_df['download']\n",
    "    .str.split('_').str[-1]\n",
    "    .str.split('.').str[0]\n",
    ")\n",
    "file_df['date'] = pd.to_datetime(file_df['date'], format='%Y%m%dT%H%M%S')\n",
    "file_df = file_df.sort_values('date')\n",
    "\n",
    "for i in range(len(file_df['download'])):\n",
    "    filepath = f'download/{file_df.iloc[i,0]}'\n",
    "    df=pd.read_csv(filepath)\n",
    "    df['kode'] = anm.iloc[i,0]\n",
    "    df['keterangan'] = anm.iloc[i,1]\n",
    "    df = df[['kode', 'keterangan']+list(df.columns[:-2])]\n",
    "    df.to_csv(filepath, index=False)"
   ]
  },
  {
   "cell_type": "markdown",
   "id": "1ed2029c-1759-40d5-95f8-a5a2a378bd57",
   "metadata": {},
   "source": [
    "# Join with the person in charge"
   ]
  },
  {
   "cell_type": "code",
   "execution_count": 14,
   "id": "4f6181da-28b1-4a02-b75e-3873665b7767",
   "metadata": {},
   "outputs": [],
   "source": [
    "df = utilities.read_dir('download', 'Variable', 15, -1)\n",
    "df['idbs'] = (\n",
    "    df['KODE_PROV'] + df['KODE_KAB'].str.zfill(2) + df['KODE_KEC'].str.zfill(3)\n",
    "    + df['KODE_DESA'].str.zfill(3) + df['BS'].str.zfill(4)\n",
    ")"
   ]
  },
  {
   "cell_type": "code",
   "execution_count": 15,
   "id": "1f20d7d0-314d-4910-a094-e86398f1e855",
   "metadata": {},
   "outputs": [],
   "source": [
    "spv = utilities.read_file(SPV)\n",
    "spv['pml'] = spv['pml'].str.split(',').str[0]"
   ]
  },
  {
   "cell_type": "code",
   "execution_count": 16,
   "id": "6a572bec-f9e3-4a37-92b8-3a333e11c639",
   "metadata": {},
   "outputs": [],
   "source": [
    "final = pd.merge(df, spv)"
   ]
  },
  {
   "cell_type": "code",
   "execution_count": 17,
   "id": "5cc1ba18-7013-406f-9d97-6e064c73e7d0",
   "metadata": {},
   "outputs": [],
   "source": [
    "if not os.path.exists('anomali_petugas/'):\n",
    "    os.makedirs('anomali_petugas/')"
   ]
  },
  {
   "cell_type": "code",
   "execution_count": 18,
   "id": "d6078678-2d23-4b05-826f-25a2fda9315e",
   "metadata": {},
   "outputs": [],
   "source": [
    "utilities.write_excel_width(final, 'pml', 'anomali_petugas')"
   ]
  },
  {
   "cell_type": "code",
   "execution_count": 19,
   "id": "85109ceb-4955-4b48-802b-632cd4350838",
   "metadata": {},
   "outputs": [],
   "source": [
    "utilities.write_excel(final, 'pml', 'anomali_petugas/')"
   ]
  },
  {
   "cell_type": "code",
   "execution_count": 20,
   "id": "c87b309f-1ae1-4d78-aeb9-125d2a730904",
   "metadata": {},
   "outputs": [],
   "source": [
    "date = datetime.date.today().strftime(\"%Y-%m-%d\")\n",
    "final.to_excel(f'anomali_sak_{date}.xlsx', index=False)"
   ]
  },
  {
   "cell_type": "markdown",
   "id": "f13359ba-56c4-464e-ad76-36972fd14024",
   "metadata": {},
   "source": [
    "### Add last modified and status (Optional)"
   ]
  },
  {
   "cell_type": "code",
   "execution_count": 21,
   "id": "74882a62-ffc4-403c-a355-12faddd59ed5",
   "metadata": {},
   "outputs": [],
   "source": [
    "STS = 'sqllab_sak_2024_data_modification_20240828T054938.csv'\n",
    "sts = utilities.read_file(STS, dtype=str)"
   ]
  },
  {
   "cell_type": "code",
   "execution_count": 22,
   "id": "69321507-18f1-4076-8387-2e2402d5df3c",
   "metadata": {},
   "outputs": [],
   "source": [
    "final = pd.merge(pd.merge(df, spv), sts, on=['idbs', 'DSRT'])"
   ]
  },
  {
   "cell_type": "code",
   "execution_count": 23,
   "id": "34f1cb3c-639c-4a6b-a348-8ce6b8f609ca",
   "metadata": {},
   "outputs": [],
   "source": [
    "utilities.write_excel_width(final, 'pml', 'anomali_petugas')"
   ]
  },
  {
   "cell_type": "code",
   "execution_count": 24,
   "id": "e66972c1-2b63-4cb1-9188-7354e4cb47f5",
   "metadata": {},
   "outputs": [],
   "source": [
    "date = datetime.date.today().strftime(\"%Y-%m-%d\")\n",
    "final.to_excel(f'anomali_sak_{date}.xlsx', index=False)"
   ]
  },
  {
   "cell_type": "code",
   "execution_count": null,
   "id": "a80410f7-f5d4-4ecc-ace0-465a2a22c1ad",
   "metadata": {},
   "outputs": [],
   "source": []
  }
 ],
 "metadata": {
  "kernelspec": {
   "display_name": "Python 3 (ipykernel)",
   "language": "python",
   "name": "python3"
  },
  "language_info": {
   "codemirror_mode": {
    "name": "ipython",
    "version": 3
   },
   "file_extension": ".py",
   "mimetype": "text/x-python",
   "name": "python",
   "nbconvert_exporter": "python",
   "pygments_lexer": "ipython3",
   "version": "3.12.4"
  }
 },
 "nbformat": 4,
 "nbformat_minor": 5
}
